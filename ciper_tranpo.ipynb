{
 "cells": [
  {
   "cell_type": "code",
   "execution_count": 11,
   "metadata": {},
   "outputs": [
    {
     "name": "stdout",
     "output_type": "stream",
     "text": [
      "Plainteks: saya cinta anime\n",
      "Cipherteks: SINANIYTMAAECA\n",
      "Plainteks setelah dekripsi: SAYACINTAANIME\n"
     ]
    }
   ],
   "source": [
    "# Fungsi untuk mengenkripsi plainteks dengan kunci\n",
    "def enkripsi(plainteks, kunci):\n",
    "  # Mengubah plainteks menjadi huruf besar dan menghapus spasi\n",
    "  plainteks = plainteks.upper().replace(\" \", \"\")\n",
    "  # Membuat matriks kosong dengan ukuran (len(plainteks) + kunci - 1) // kunci x kunci\n",
    "  matriks = [[\"\" for i in range((len(plainteks) + kunci - 1) // kunci)] for j in range(kunci)]\n",
    "  # Mengisi matriks dengan plainteks secara kolom per kolom\n",
    "  indeks = 0\n",
    "  for j in range(len(matriks[0])):\n",
    "    for i in range(len(matriks)):\n",
    "      if indeks < len(plainteks):\n",
    "        matriks[i][j] = plainteks[indeks]\n",
    "        indeks += 1\n",
    "  # Membaca matriks secara baris per baris untuk mendapatkan cipherteks\n",
    "  cipherteks = \"\"\n",
    "  for i in range(len(matriks)):\n",
    "    for j in range(len(matriks[i])):\n",
    "      cipherteks += matriks[i][j]\n",
    "  # Mengembalikan cipherteks\n",
    "  return cipherteks\n",
    "\n",
    "# Fungsi untuk mendekripsi cipherteks dengan kunci\n",
    "def dekripsi(cipherteks, kunci):\n",
    "  # Mengubah cipherteks menjadi huruf besar dan menghapus spasi\n",
    "  cipherteks = cipherteks.upper().replace(\" \", \"\")\n",
    "  # Membuat matriks kosong dengan ukuran (len(cipherteks) + kunci - 1) // kunci x kunci\n",
    "  matriks = [[\"\" for i in range((len(cipherteks) + kunci - 1) // kunci)] for j in range(kunci)]\n",
    "  # Mengisi matriks dengan cipherteks secara baris per baris\n",
    "  indeks = 0\n",
    "  for i in range(len(matriks)):\n",
    "    for j in range(len(matriks[i])):\n",
    "      if indeks < len(cipherteks):\n",
    "        matriks[i][j] = cipherteks[indeks]\n",
    "        indeks += 1\n",
    "  # Membaca matriks secara kolom per kolom untuk mendapatkan plainteks\n",
    "  plainteks = \"\"\n",
    "  for j in range(len(matriks[0])):\n",
    "    for i in range(len(matriks)):\n",
    "      plainteks += matriks[i][j]\n",
    "  # Mengembalikan plainteks\n",
    "  return plainteks\n",
    "\n",
    "\n",
    "kunci = 5 # Kunci harus lebih kecil dari panjang plainteks     \n",
    "\n",
    "plainteks = \"saya cinta anime\"\n",
    "cipherteks = enkripsi(plainteks, kunci)\n",
    "print(\"Plainteks:\", plainteks)\n",
    "print(\"Cipherteks:\", cipherteks)\n",
    "print(\"Plainteks setelah dekripsi:\", dekripsi(cipherteks, kunci))\n"
   ]
  }
 ],
 "metadata": {
  "kernelspec": {
   "display_name": "pcd",
   "language": "python",
   "name": "python3"
  },
  "language_info": {
   "codemirror_mode": {
    "name": "ipython",
    "version": 3
   },
   "file_extension": ".py",
   "mimetype": "text/x-python",
   "name": "python",
   "nbconvert_exporter": "python",
   "pygments_lexer": "ipython3",
   "version": "3.9.16"
  }
 },
 "nbformat": 4,
 "nbformat_minor": 2
}
